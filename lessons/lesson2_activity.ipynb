{
 "cells": [
  {
   "attachments": {},
   "cell_type": "markdown",
   "metadata": {},
   "source": [
    "---\n",
    "## Activity 1\n",
    "- A student takes three test, each test is out of 20. Allow the student to enter their test score.\n",
    "- If the student scores a total of 36, or more, they have passed, otherwise they have failed. \n",
    "- Output if the student has passes or failed. \n"
   ]
  },
  {
   "cell_type": "code",
   "execution_count": null,
   "metadata": {},
   "outputs": [],
   "source": [
    "## part 1: request students to enter their 3 test scores\n",
    "test1 = int(input(\"Please input test score 1: \"))\n",
    "test2 = int(input(\"Please input test score 2: \"))\n",
    "test3 = int(input(\"Please input test score 3: \"))"
   ]
  },
  {
   "cell_type": "code",
   "execution_count": null,
   "metadata": {},
   "outputs": [],
   "source": [
    "## part 2: find the total scores\n",
    "totalScore = test1 + test2 + test3"
   ]
  },
  {
   "cell_type": "code",
   "execution_count": null,
   "metadata": {},
   "outputs": [],
   "source": [
    "## part 3: if statement (if total score is more than 36 pass if not failed) print out passes and failures\n",
    "\n",
    "#if totalStcore >= 48:"
   ]
  },
  {
   "attachments": {},
   "cell_type": "markdown",
   "metadata": {},
   "source": [
    "---\n",
    "## Activity 2\n",
    "\n",
    "**Part 1**\n",
    "extend the previous activity and output the following grade:\n",
    "* 48 - Perfect \n",
    "* 42 - Excellent\n",
    "* 36 - Pass\n",
    "* 33 - Good\n",
    "* 30 - Needs Improvement\n",
    "* 27 - Needs to Work Harder\n",
    "\n",
    "**Part 2** \n",
    "* using the initial test scores from `test1`, `test2` and `test3` uses operators such as `and`, `or`, `and not` to check multiple conditions, of the following:\n",
    "* if any of the test1, test2 or test3 are below 10, output the message \"You have failed the exam\"\n",
    "* if test1 is greater than 10 and test2 is greater than 10 and test3 is greater than 10, output the message \"You have passed the exam\"\n",
    "* if test2 or test3 are greater than 10, output the message \"those were tough questions, but you have passed the exam\"\n",
    "\n"
   ]
  },
  {
   "cell_type": "code",
   "execution_count": null,
   "metadata": {},
   "outputs": [],
   "source": [
    "# part 1"
   ]
  },
  {
   "cell_type": "code",
   "execution_count": null,
   "metadata": {},
   "outputs": [],
   "source": [
    "# part 2"
   ]
  }
 ],
 "metadata": {
  "kernelspec": {
   "display_name": "base",
   "language": "python",
   "name": "python3"
  },
  "language_info": {
   "codemirror_mode": {
    "name": "ipython",
    "version": 3
   },
   "file_extension": ".py",
   "mimetype": "text/x-python",
   "name": "python",
   "nbconvert_exporter": "python",
   "pygments_lexer": "ipython3",
   "version": "3.7.6"
  },
  "orig_nbformat": 4
 },
 "nbformat": 4,
 "nbformat_minor": 2
}
