{
 "cells": [
  {
   "attachments": {},
   "cell_type": "markdown",
   "metadata": {},
   "source": [
    "## Lesson 3 - List and For Loops\n",
    "This lesson we are going to learn about lists and for loops.\n",
    "\n",
    "### Resources\n",
    "* [Teals Lists](https://tealsk12.github.io/2nd-semester-introduction-to-computer-science/units/2_unit/04_lesson/lesson.md.html)\n",
    "* [Teals list 2](https://tealsk12.github.io/2nd-semester-introduction-to-computer-science/units/2_unit/05_lesson/lesson.md.html)\n",
    "* [For Loops](https://tealsk12.github.io/2nd-semester-introduction-to-computer-science/curriculum_map.md.html#2ndsemester-introductiontocomputersciencecurriculummap/unit4map-nestedloopsandlists)"
   ]
  },
  {
   "attachments": {},
   "cell_type": "markdown",
   "metadata": {},
   "source": [
    "----\n",
    "## Lists\n",
    "\n",
    "\n",
    "Below is an example where we declares three variables, `name1`, `name2`, and `name3`, and assigns them the values \"Bob\", \"Jo\", and \"Ash\", respectively. Then, it prints out the value of `name3`."
   ]
  },
  {
   "cell_type": "code",
   "execution_count": 1,
   "metadata": {},
   "outputs": [
    {
     "name": "stdout",
     "output_type": "stream",
     "text": [
      "Ash\n"
     ]
    }
   ],
   "source": [
    "name1 = \"Bob\"\n",
    "name2 = \"Jo\"\n",
    "name3 = \"Ash\"\n",
    "print(name3)"
   ]
  },
  {
   "attachments": {},
   "cell_type": "markdown",
   "metadata": {},
   "source": [
    "Next we create a `list` called `names` and assigns it the values \"Bob\", \"Jo\", and \"Ash\". Then, it prints out the value of` names[2]`, which is \"Ash\".\n",
    "\n",
    "The names **list** is a list of strings. **Lists** are a data type in Python that can store a collection of values. The values in a list can be of any type, including strings, numbers, and other lists.\n",
    "\n",
    "To declare a list, you use the square brackets `[]`. The values in the list are separated by commas. For example, the following code declares a list called names and assigns it the values \"Bob\", \"Jo\", and \"Ash\": `names = [\"Bob\", \"Jo\", \"Ash\"]`"
   ]
  },
  {
   "cell_type": "code",
   "execution_count": 4,
   "metadata": {},
   "outputs": [
    {
     "name": "stdout",
     "output_type": "stream",
     "text": [
      "Ash\n",
      "Mo\n",
      "['Bob', 'Mo', 'Ash']\n"
     ]
    }
   ],
   "source": [
    "# lists decleration and assignment\n",
    "names = [\"Bob\", \"Jo\", \"Ash\"]\n",
    "print(names[2])\n",
    "names[1] = \"Mo\"\n",
    "print(names[1])\n",
    "print(names)"
   ]
  },
  {
   "attachments": {},
   "cell_type": "markdown",
   "metadata": {},
   "source": [
    "To access a value in a list, you use the square brackets `[]` and the index of the value you want to access. The index of a **value in a list starts at 0**. For example, above code `prints` out the value of `names[2]`, which is \"Ash\".\n",
    "\n",
    "Also from above we then then updates the value of `names[1]` to \"Mo\". Finally, it prints out the values of names[1] and names.\n",
    "\n",
    "To update a value in a list, you use the square brackets `[]` and the index of the value you want to update. Then, you assign the new value to the variable. For example, the following code updates the value of `names[1]` to \"Mo\": `names[1] = \"Mo\"`"
   ]
  },
  {
   "attachments": {},
   "cell_type": "markdown",
   "metadata": {},
   "source": [
    "---\n",
    "## For Loops\n",
    "\n",
    "The `for` loop is a powerful tool that can be used to iterate through any sequence of values. It is often used to process lists, strings, and other data structures.\n",
    "\n",
    "As an example of a `for` loop. A for loop is a control flow statement that allows you to execute a block of code repeatedly. The `range()` function in Python returns a sequence of numbers, starting from 0 and ending at the number you specify. In this case, the `range()` function returns a sequence of numbers from 0 to 2. The for loop then iterates through the sequence of numbers and prints each number."
   ]
  },
  {
   "cell_type": "code",
   "execution_count": 9,
   "metadata": {},
   "outputs": [
    {
     "name": "stdout",
     "output_type": "stream",
     "text": [
      "0\n",
      "1\n",
      "2\n"
     ]
    }
   ],
   "source": [
    "# intro to loops\n",
    "for i in range(3):\n",
    "    print(i)\n",
    "    #print(str(i) + ' | ' + names[i])"
   ]
  },
  {
   "attachments": {},
   "cell_type": "markdown",
   "metadata": {},
   "source": [
    "Using the example above about the `names` lets create a for loop to print out the names. \n",
    "\n",
    "Below we use a `for` loop that iterates through a list. The `len()` function in Python returns the length of a list. In this case, the `len()` function returns the length of the `names` list, which is 3. The for loop then iterates through the names list and prints each name."
   ]
  },
  {
   "cell_type": "code",
   "execution_count": 5,
   "metadata": {},
   "outputs": [
    {
     "name": "stdout",
     "output_type": "stream",
     "text": [
      "Bob\n",
      "Mo\n",
      "Ash\n"
     ]
    }
   ],
   "source": [
    "# loops with lists and strings\n",
    "for x in range(len(names)):\n",
    "    print(names[x])\n"
   ]
  },
  {
   "attachments": {},
   "cell_type": "markdown",
   "metadata": {},
   "source": [
    "----\n",
    "## Activity 1 and 1.2\n",
    "\n",
    "go to lesson3_activity.ipynb and complete the activity 1 and 1.2"
   ]
  },
  {
   "attachments": {},
   "cell_type": "markdown",
   "metadata": {},
   "source": [
    "---\n",
    "## More on Why we use Loops"
   ]
  },
  {
   "cell_type": "code",
   "execution_count": null,
   "metadata": {},
   "outputs": [],
   "source": [
    "print(\"students 1\")\n",
    "print(\"students 2\")\n",
    "print(\"students 3\")\n",
    "print(\"students 4\")\n",
    "print(\"students 5\")\n",
    "print(\"students 6\")\n",
    "print(\"students 7\")\n",
    "print(\"students 8\")\n",
    "print(\"students 9\")\n",
    "print(\"students 10\")"
   ]
  },
  {
   "cell_type": "code",
   "execution_count": null,
   "metadata": {},
   "outputs": [],
   "source": [
    "for count in range(10):\n",
    "    print(\"student 1\")\n",
    "    #print(\"students \" + str(count + 1))"
   ]
  },
  {
   "cell_type": "code",
   "execution_count": null,
   "metadata": {},
   "outputs": [],
   "source": [
    "for count in range(10):\n",
    "    print(\"student \" + count)"
   ]
  },
  {
   "cell_type": "code",
   "execution_count": null,
   "metadata": {},
   "outputs": [],
   "source": [
    "for count in range(10):\n",
    "    print(\"student \" + str(count))"
   ]
  },
  {
   "cell_type": "code",
   "execution_count": null,
   "metadata": {},
   "outputs": [],
   "source": [
    "for count in range(10):\n",
    "    print(\"student \" + str(count +1))"
   ]
  },
  {
   "attachments": {},
   "cell_type": "markdown",
   "metadata": {},
   "source": [
    "---\n",
    "## Activity 2\n",
    "\n",
    "> go to lesson3_activity2.ipynb and complete the activity 2"
   ]
  },
  {
   "attachments": {},
   "cell_type": "markdown",
   "metadata": {},
   "source": [
    "---\n",
    "last example on loops\n",
    "\n",
    "Output all even and odd students in separate list"
   ]
  },
  {
   "cell_type": "code",
   "execution_count": 1,
   "metadata": {},
   "outputs": [
    {
     "name": "stdout",
     "output_type": "stream",
     "text": [
      "Student 1\n",
      "Student 3\n",
      "Student 5\n",
      "Student 7\n",
      "Student 9\n",
      "Student 11\n",
      "Student 13\n",
      "Student 15\n",
      "Student 17\n",
      "Student 19\n"
     ]
    }
   ],
   "source": [
    "for count in range (1, 21, 2):\n",
    "    print(\"Student \" + str(count))"
   ]
  },
  {
   "cell_type": "code",
   "execution_count": 4,
   "metadata": {},
   "outputs": [
    {
     "name": "stdout",
     "output_type": "stream",
     "text": [
      "Student 2\n",
      "Student 4\n",
      "Student 6\n",
      "Student 8\n",
      "Student 10\n",
      "Student 12\n",
      "Student 14\n",
      "Student 16\n",
      "Student 18\n",
      "Student 20\n"
     ]
    }
   ],
   "source": [
    "for count in range (2, 21, 2):\n",
    "    print(\"Student \" + str(count))"
   ]
  },
  {
   "cell_type": "code",
   "execution_count": null,
   "metadata": {},
   "outputs": [],
   "source": []
  },
  {
   "cell_type": "code",
   "execution_count": null,
   "metadata": {},
   "outputs": [],
   "source": []
  },
  {
   "cell_type": "code",
   "execution_count": null,
   "metadata": {},
   "outputs": [],
   "source": []
  }
 ],
 "metadata": {
  "kernelspec": {
   "display_name": "base",
   "language": "python",
   "name": "python3"
  },
  "language_info": {
   "codemirror_mode": {
    "name": "ipython",
    "version": 3
   },
   "file_extension": ".py",
   "mimetype": "text/x-python",
   "name": "python",
   "nbconvert_exporter": "python",
   "pygments_lexer": "ipython3",
   "version": "3.7.6"
  },
  "orig_nbformat": 4
 },
 "nbformat": 4,
 "nbformat_minor": 2
}
