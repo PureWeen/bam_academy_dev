{
 "cells": [
  {
   "cell_type": "markdown",
   "metadata": {},
   "source": [
    "# Unit 2 - In Class: IF statement and Operators\n",
    "\n",
    "### Overview of Lesson\n",
    "* Sequence\n",
    "* Selection\n",
    "* IF statement - `IF` or `ELSE`\n",
    "* Comparison vs Assignment\n",
    "* Indent in python\n",
    "* `>` vs `>=`\n",
    "\n",
    "* What are Operators?  - https://www.youtube.com/watch?v=Y6CwThhquQs&t=119s&ab_channel=GoogleStudents\n",
    "\n",
    "### if/else statement (String)\n",
    "\n",
    "```python\n",
    "if lastName==\"Bob\":\n",
    "  print(\"Welcome Bob!\")\n",
    "else:\n",
    "  print(\"you are not Bob!\")\n",
    "```\n",
    "\n",
    "### if/elif/else (int)\n",
    "```python\n",
    "if age>14:\n",
    "  print(\"Age is above 14\")\n",
    "elif age>10 and age<=14:\n",
    "  print(\"Age is between 10 and 14\")\n",
    "else:\n",
    "  print(\"Under 14\")\n",
    "```\n",
    "\n",
    "\n",
    "### Logical Operators\n",
    "\n",
    "* `==` Equal to, `5==4` -> `False`\n",
    "* `!=` Not equal to, `5!=4` -> `True`\n",
    "* `<`  Less than, 2<10 -> `True`\n",
    "* `<=` Less than or equal to, 2<=10 -> `True`\n",
    "* `>` Greater than, 9>9 -> `False`\n",
    "* `>=` Greater than or equal to, 9>=9 -> `True`\n",
    "* `and` AND, 3>2 and 5==4 -> `False`\n",
    "* `or` OR, 3>2 or 5==4 -> `True`\n",
    "\n",
    "examples of logical operators\n",
    "\n",
    "```\n",
    "x != y               # x is not equal to y\n",
    "x > y                # x is greater than y\n",
    "x < y                # x is less than y\n",
    "x >= y               # x is greater than or equal to y\n",
    "x <= y               # x is less than or equal to y\n",
    "```\n",
    "\n",
    "## Helpful resources\n",
    "* https://docs.python.org/3/reference/expressions.html#expression-lists"
   ]
  },
  {
   "attachments": {},
   "cell_type": "markdown",
   "metadata": {},
   "source": [
    "---\n",
    "## Agenday\n",
    "\n",
    "This notebook covers the following concepts:\n",
    "\n",
    "* Variables\n",
    "* Data types\n",
    "* Operators\n"
   ]
  },
  {
   "attachments": {},
   "cell_type": "markdown",
   "metadata": {},
   "source": [
    "---\n",
    "## Simple Arithmetic operators examples & Recap from Lesson 1 (Variables & Data Types)\n",
    "\n",
    "about arithmetic operators:\n",
    "* Arithmetic operators are used to perform mathematical operations on data.\n",
    "* There are many different arithmetic operators in Python, but some of the most common ones include addition, subtraction, multiplication, division, and exponentiation.\n",
    "* The order of operations in Python is important. This means that operations are performed in a specific order, starting with the operations inside parentheses, then exponentiation, then multiplication and division, and then addition and subtraction.\n",
    "* When concatenating strings, it is important to use the correct type of data. For example, you cannot concatenate a string and a number."
   ]
  },
  {
   "cell_type": "code",
   "execution_count": 13,
   "metadata": {},
   "outputs": [
    {
     "name": "stdout",
     "output_type": "stream",
     "text": [
      "46\n",
      "3412\n"
     ]
    }
   ],
   "source": [
    "print(34 + 12)\n",
    "\n",
    "print(\"34\" + \"12\") # concatenation - make sure to use the right type"
   ]
  },
  {
   "attachments": {},
   "cell_type": "markdown",
   "metadata": {},
   "source": [
    "The first line of code, `print(34 + 12)`, uses the addition operator to add the two numbers 34 and 12. The result of the addition is 46.\n",
    "\n",
    "The second line of code, `print(\"34\" + \"12\")`, uses the concatenation operator to concatenate the two strings \"34\" and \"12\". The result of the concatenation is the string \"3412\".\n",
    "\n",
    "The difference between the two lines of code is that the first line adds two numbers, while the second line concatenates two strings."
   ]
  },
  {
   "attachments": {},
   "cell_type": "markdown",
   "metadata": {},
   "source": [
    "----\n",
    "lets try another example:"
   ]
  },
  {
   "cell_type": "code",
   "execution_count": 15,
   "metadata": {},
   "outputs": [
    {
     "ename": "TypeError",
     "evalue": "can only concatenate str (not \"int\") to str",
     "output_type": "error",
     "traceback": [
      "\u001b[0;31m---------------------------------------------------------------------------\u001b[0m",
      "\u001b[0;31mTypeError\u001b[0m                                 Traceback (most recent call last)",
      "\u001b[0;32m<ipython-input-15-83eb6f0a053b>\u001b[0m in \u001b[0;36m<module>\u001b[0;34m\u001b[0m\n\u001b[1;32m      1\u001b[0m \u001b[0mage\u001b[0m \u001b[0;34m=\u001b[0m \u001b[0minput\u001b[0m\u001b[0;34m(\u001b[0m\u001b[0;34m\"How old are you? \"\u001b[0m\u001b[0;34m)\u001b[0m\u001b[0;34m\u001b[0m\u001b[0;34m\u001b[0m\u001b[0m\n\u001b[0;32m----> 2\u001b[0;31m \u001b[0mage\u001b[0m\u001b[0;34m+\u001b[0m\u001b[0;36m1\u001b[0m\u001b[0;34m\u001b[0m\u001b[0;34m\u001b[0m\u001b[0m\n\u001b[0m\u001b[1;32m      3\u001b[0m \u001b[0mprint\u001b[0m\u001b[0;34m(\u001b[0m\u001b[0mage\u001b[0m\u001b[0;34m)\u001b[0m\u001b[0;34m\u001b[0m\u001b[0;34m\u001b[0m\u001b[0m\n",
      "\u001b[0;31mTypeError\u001b[0m: can only concatenate str (not \"int\") to str"
     ]
    }
   ],
   "source": [
    "age = input(\"How old are you? \")\n",
    "age+1\n",
    "print(age)"
   ]
  },
  {
   "attachments": {},
   "cell_type": "markdown",
   "metadata": {},
   "source": [
    "we use `age = input(\"How old are you? \")`, as the `input` function to get the user's age as input. The `input` function returns a string, so the value of the variable age is a string.\n",
    "\n",
    "This will throw an error because the value of the variable `age` is a `string`, not an `integer`. The `+` operator cannot be used to add a string and an integer.\n",
    "\n",
    "To fix the error, we need to convert the value of the variable age to an integer. We can do this using the `int()` function. The following code will work:"
   ]
  },
  {
   "cell_type": "code",
   "execution_count": 16,
   "metadata": {},
   "outputs": [
    {
     "name": "stdout",
     "output_type": "stream",
     "text": [
      "15\n"
     ]
    }
   ],
   "source": [
    "age = int(input(\"How old are you? \")) # 15\n",
    "age+1\n",
    "print(age)"
   ]
  },
  {
   "attachments": {},
   "cell_type": "markdown",
   "metadata": {},
   "source": [
    "notice `age+1`, adds 1 to the value of the variable age. Since the value of the variable age is now an integer, the addition operation succeeds and the value of the variable age becomes 15. __but not 16__ because we didnt save the value of `age+1` to the variable `age`. The following code saves the value of `age+1` to the variable `age`:"
   ]
  },
  {
   "cell_type": "code",
   "execution_count": 17,
   "metadata": {},
   "outputs": [
    {
     "name": "stdout",
     "output_type": "stream",
     "text": [
      "16\n"
     ]
    }
   ],
   "source": [
    "age = age+1\n",
    "print(age)"
   ]
  },
  {
   "attachments": {},
   "cell_type": "markdown",
   "metadata": {},
   "source": [
    "---\n",
    "\n",
    "Now lets try another example:\n",
    "* allow the user to `input` two numbers, `n1` and `n2`\n",
    "* output the following\n",
    "  * n1 add n2 (+)\n",
    "  * n1 substract n2 (-)\n",
    "  * n1 multiply n2 (*)"
   ]
  },
  {
   "cell_type": "code",
   "execution_count": 19,
   "metadata": {},
   "outputs": [
    {
     "name": "stdout",
     "output_type": "stream",
     "text": [
      "The sum of the two numbers is: 9\n",
      "substract the first number from the second: 1\n",
      "multiplied together: 20\n"
     ]
    }
   ],
   "source": [
    "n1 = int(input(\"What is the first number? \"))\n",
    "n2 = int(input(\"What is the second number? \"))\n",
    "print(\"The sum of the two numbers is: \"+ str(n1+n2))\n",
    "print(\"substract the first number from the second: \"+ str(n1-n2))\n",
    "print(\"multiplied together: \"+ str(n1*n2))"
   ]
  },
  {
   "attachments": {},
   "cell_type": "markdown",
   "metadata": {},
   "source": [
    "---\n",
    "## IF statement\n",
    "\n",
    "An `if` statement in Python is a conditional statement that allows you to execute code based on a condition. The syntax for an if statement is as follows:\n",
    "\n",
    "```python\n",
    "if condition:\n",
    "  statement(s)\n",
    "```\n",
    "\n",
    "The if statement will only execute the statements inside the if block if the condition is true. If the condition is false, the if block will be skipped. for example:\n",
    "\n",
    "```python\n",
    "#if/else statement (String)\n",
    "if lastName==\"Bob\":\n",
    "  print(\"Welcome Bob!\")\n",
    "elif lastName==\"Robert\":\n",
    "  print(\"Welcome Robert!, do you go by Bob?\")\n",
    "else:\n",
    "  print(\"you are not Bob!\")\n",
    "```\n",
    "\n",
    "### Key Points about IF statements and conditions\n",
    "* `if` statements are a very important part of programming. They allow you to control the flow of your code based on different conditions.\n",
    "* There are other types of **conditional **statements in Python, such as the `elif` statement and the else statement.\n",
    "* The `elif` statement allows you to check for multiple conditions.\n",
    "* The `else` statement allows you to execute code if none of the other conditions are met."
   ]
  },
  {
   "cell_type": "code",
   "execution_count": null,
   "metadata": {},
   "outputs": [],
   "source": [
    "print(\"Lets make a PB&J sandwich\")\n",
    "print(\"Get two slices of bread\")\n",
    "print(\"Get peanut butter\")\n",
    "print(\"Get jelly\")\n",
    "print(\"Spread peanut butter on one slice of bread\")\n",
    "print(\"Spread jelly on the other slice of bread\")\n",
    "print(\"Put the two slices of bread together\")\n",
    "print(\"Enjoy your sandwich\")"
   ]
  },
  {
   "attachments": {},
   "cell_type": "markdown",
   "metadata": {},
   "source": [
    "What if we dont want `jelly`?"
   ]
  },
  {
   "cell_type": "code",
   "execution_count": 20,
   "metadata": {},
   "outputs": [
    {
     "name": "stdout",
     "output_type": "stream",
     "text": [
      "Lets make a PB&J sandwich\n",
      "Get two slices of bread\n",
      "Get peanut butter\n",
      "Spread peanut butter on one slice of bread\n",
      "add more peanut butter 😄\n",
      "Put the two slices of bread together\n",
      "Enjoy your sandwich\n"
     ]
    }
   ],
   "source": [
    "print(\"Lets make a PB&J sandwich\")\n",
    "print(\"Get two slices of bread\")\n",
    "print(\"Get peanut butter\")\n",
    "print(\"Spread peanut butter on one slice of bread\")\n",
    "jelly = input(\"Do you have jelly? \")\n",
    "if jelly == \"yes\":\n",
    "    print(\"Get jelly\")\n",
    "    print(\"Spread jelly on the other slice of bread\")\n",
    "else:\n",
    "    print(\"add more peanut butter 😄\")\n",
    "print(\"Put the two slices of bread together\")\n",
    "print(\"Enjoy your sandwich\")"
   ]
  },
  {
   "attachments": {},
   "cell_type": "markdown",
   "metadata": {},
   "source": [
    "what `if` we want more sandwiches? but we only have 7 slices of bread?"
   ]
  },
  {
   "cell_type": "code",
   "execution_count": 24,
   "metadata": {},
   "outputs": [
    {
     "name": "stdout",
     "output_type": "stream",
     "text": [
      "we have enough bread to make 3 sandwiches\n",
      "Lets make a PB&J sandwich\n"
     ]
    }
   ],
   "source": [
    "#what `if` we want more sandwiches? but we only have 7 slices of bread?\n",
    "bread_num = 7\n",
    "sandwich_num = int(input(\"How many sandwhiches do you want? \"))\n",
    "\n",
    "if sandwich_num <= bread_num//2:\n",
    "    print(\"we have enough bread to make \"+ str(sandwich_num) + \" sandwiches\")\n",
    "    print(\"Lets make a PB&J sandwich\")\n",
    "else:\n",
    "    print(\"Sorry, we don't have enough bread\")\n"
   ]
  },
  {
   "attachments": {},
   "cell_type": "markdown",
   "metadata": {},
   "source": [
    "explaination to the example:\n",
    "\n",
    "The code will only print the text \"Lets make a PB&J sandwich\" if the user enters a number of sandwiches that is less than or equal to half of the number of slices of bread we have. If the user enters a number of sandwiches that is greater than half of the number of slices of bread we have, the code will print the text \"Sorry, we don't have enough bread\".\n",
    "\n",
    "`if sandwich_num <= bread_num//2`, is an if statement. The condition of the `if` statement is `sandwich_num <= bread_num//2`. This means that the if statement will only be executed if the number of sandwiches the user wants to make is less than or equal to half of the number of slices of bread we have."
   ]
  },
  {
   "attachments": {},
   "cell_type": "markdown",
   "metadata": {},
   "source": [
    "---\n",
    "## Activity 1\n",
    "- A student takes three test, each test is out of 20. Allow the student to enter their test score.\n",
    "- If the student scores a total of 36, or more, they have passed, otherwise they have failed. \n",
    "- Output if the student has passes or failed. \n",
    "\n",
    "> Go to the `lesson2_activity` notebook"
   ]
  },
  {
   "cell_type": "code",
   "execution_count": 25,
   "metadata": {},
   "outputs": [],
   "source": [
    "## part 1: request students to enter their 3 test scores\n",
    "test1 = int(input(\"Please input test score 1: \"))\n",
    "test2 = int(input(\"Please input test score 2: \"))\n",
    "test3 = int(input(\"Please input test score 3: \"))"
   ]
  },
  {
   "cell_type": "code",
   "execution_count": 26,
   "metadata": {},
   "outputs": [],
   "source": [
    "## part 2: find the total scores\n",
    "totalScore = test1 + test2 + test3"
   ]
  },
  {
   "cell_type": "code",
   "execution_count": 27,
   "metadata": {},
   "outputs": [
    {
     "name": "stdout",
     "output_type": "stream",
     "text": [
      "You failed the test!\n"
     ]
    }
   ],
   "source": [
    "## part 3: if statement (if total score is more than 36 pass if not failed) print out passes and failures\n",
    "if totalScore >= 36:\n",
    "    print(\"You passed the test!\")\n",
    "else:\n",
    "    print(\"You failed the test!\")"
   ]
  },
  {
   "attachments": {},
   "cell_type": "markdown",
   "metadata": {},
   "source": [
    "---\n",
    "## Operators\n",
    "\n",
    "* Boolean - True / False\n",
    "* Making use of OR and AND logical operators\n",
    "* Nesting vs AND\n",
    "* Using != as not equals\n",
    "\n",
    "\n",
    "Key Points\n",
    "* The or operator is a logical operator that evaluates to True if one or both of the operands are True.\n",
    "* The and operator is a logical operator that evaluates to True if both of the operands are True.\n",
    "* The !== operator is the not equal to operator. It evaluates to True if the two operands are not equal."
   ]
  },
  {
   "cell_type": "code",
   "execution_count": 28,
   "metadata": {},
   "outputs": [
    {
     "name": "stdout",
     "output_type": "stream",
     "text": [
      "y\n"
     ]
    }
   ],
   "source": [
    "T = 15\n",
    "S = 12\n",
    "F = True\n",
    "\n",
    "if 15 > 12 or True and 15 != 14:\n",
    "  print(\"y\")"
   ]
  },
  {
   "attachments": {},
   "cell_type": "markdown",
   "metadata": {},
   "source": [
    "above `if 15 > 12 or True and 15 != 14:`, is an if statement. The condition of the `if` statement is `15 > 12 or True and 15 != 14`. This means that the if statement will only be executed if one of the following conditions is true:\n",
    "\n",
    "* 15 is greater than 12\n",
    "* The value of the variable `F` is True\n",
    "* The value of the variable `T` is not equal to 14\n",
    "* If one of the conditions is true, the code inside the if block will be executed. The code inside the if block prints the text \"y\".\n",
    "\n",
    "If none of the conditions is true, the code inside the if block will not be executed.\n",
    "\n",
    "The code will print the text \"y\" if one of the following conditions is true:\n",
    "\n",
    "* 15 is greater than 12 (which is true)\n",
    "* The value of the variable F is True (which is also true)\n",
    "* The value of the variable T is not equal to 14 (which is also true)"
   ]
  },
  {
   "attachments": {},
   "cell_type": "markdown",
   "metadata": {},
   "source": [
    "---\n",
    "class example \n",
    "* store the variables:\n",
    "  * Username = 'Bob'\n",
    "  * Password = 'Rocks'\n",
    "* ask the end user to inpu their username. If the username matches \"Bob\" then allow the password tto be entered. \n",
    "* Output the message \"Access Granted\" or \"Wrong user name or password\""
   ]
  },
  {
   "cell_type": "code",
   "execution_count": null,
   "metadata": {},
   "outputs": [],
   "source": [
    "# store the variables\n",
    "Username = 'Bob'\n",
    "Password = 'Rocks'\n",
    "\n",
    "# ask the end user to input their username\n",
    "username = input(\"Enter your username: \")\n",
    "\n",
    "# if the username matches \"Bob\" then allow the password to be entered\n",
    "if username == 'Bob':\n",
    "    password = input(\"Enter your password: \")\n",
    "\n",
    "    # if the password matches \"Rocks\" OR 'roxs' then output \"Access Granted\"\n",
    "    if password == 'Rocks' or password == 'roxs':\n",
    "        print(\"Access Granted\")\n",
    "    else:\n",
    "        print(\"Wrong password\")\n",
    "else:\n",
    "    print(\"Wrong username\")"
   ]
  },
  {
   "attachments": {},
   "cell_type": "markdown",
   "metadata": {},
   "source": [
    "---\n",
    "## Activity 2\n",
    "> Go to the `lesson2_activity` notebook\n",
    "\n",
    "**Part 1**\n",
    "extend the previous activity and output the following grade:\n",
    "* 48 - Perfect \n",
    "* 42 - Excellent\n",
    "* 36 - Pass\n",
    "* 33 - Good\n",
    "* 30 - Needs Improvement\n",
    "* 27 - Needs to Work Harder\n",
    "\n",
    "**Part 2** \n",
    "* using the initial test scores from `test1`, `test2` and `test3` uses operators such as `and`, `or`, `and not` to check multiple conditions, of the following:\n",
    "* if any of the test1, test2 or test3 are below 10, output the message \"You have failed the exam\"\n",
    "* if test1 is greater than 10 and test2 is greater than 10 and test3 is greater than 10, output the message \"You have passed the exam\"\n",
    "* if test2 or test3 are greater than 10, output the message \"those were tough questions, but you have passed the exam\"\n"
   ]
  },
  {
   "cell_type": "code",
   "execution_count": null,
   "metadata": {},
   "outputs": [],
   "source": []
  }
 ],
 "metadata": {
  "kernelspec": {
   "display_name": "base",
   "language": "python",
   "name": "python3"
  },
  "language_info": {
   "codemirror_mode": {
    "name": "ipython",
    "version": 3
   },
   "file_extension": ".py",
   "mimetype": "text/x-python",
   "name": "python",
   "nbconvert_exporter": "python",
   "pygments_lexer": "ipython3",
   "version": "3.7.6"
  },
  "orig_nbformat": 4
 },
 "nbformat": 4,
 "nbformat_minor": 2
}
