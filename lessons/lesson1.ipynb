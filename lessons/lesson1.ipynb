{
 "cells": [
  {
   "attachments": {},
   "cell_type": "markdown",
   "metadata": {},
   "source": [
    "# Lesson 1 - Introduction to Python\n",
    "\n",
    "* [Lesson Material](https://tealsk12.github.io/2nd-semester-introduction-to-computer-science/curriculum_map.md.html#2ndsemester-introductiontocomputersciencecurriculummap/unit1map-introductiontopython)\n",
    "\n",
    "## Lesson Plan\n",
    "\n",
    "* Introduction (10 minutes)\n",
    "  * Introduce the Python programming language and its history.\n",
    "  * Discuss the benefits of learning Python.\n",
    "  * Set the expectations for the lesson.\n",
    "* Variables and Data Types (20 minutes)\n",
    "  * Introduce the concept of variables.\n",
    "  * Explain the different data types in Python.\n",
    "  * Demonstrate how to declare and initialize variables.\n",
    "  * Practice working with variables in a Jupyter notebook.\n",
    "* Operators (20 minutes)\n",
    "  * Introduce the concept of operators.\n",
    "  * Explain the different types of operators in Python.\n",
    "  * Demonstrate how to use operators in a Jupyter notebook.\n",
    "  * Practice working with operators in a Jupyter notebook.\n",
    "* Activity (10 minutes)\n",
    "  * Have students create a Jupyter notebook and write a code that declares a variable and initializes it with their name.\n",
    "  * Have students create a Jupyter notebook and write a code that declares a variable and initializes it with their favorite food.\n",
    "* Wrap-up (10 minutes)\n",
    "  * Review the key concepts of the lesson.\n",
    "  * Answer any questions students may have.\n",
    "\n",
    "\n"
   ]
  },
  {
   "attachments": {},
   "cell_type": "markdown",
   "metadata": {},
   "source": [
    "---\n",
    "# Lesson 1 - Introduction to Python - Inputs, Variables, Data Types and Operators\n",
    "\n",
    "\n",
    "## Agenda\n",
    "\n",
    "This notebook covers the following concepts:\n",
    "* print statement - \"Hello World\"\n",
    "* Variables\n",
    "* Data types\n",
    "* Operators\n",
    "\n",
    "Resources\n",
    "* [Unit 1 Map - Introduction to Python](https://tealsk12.github.io/2nd-semester-introduction-to-computer-science/curriculum_map.md.html#2ndsemester-introductiontocomputersciencecurriculummap/unit1map-introductiontopython)\n",
    "* [Unit 2 Map - Data Types and Conditionals](https://tealsk12.github.io/2nd-semester-introduction-to-computer-science/curriculum_map.md.html#2ndsemester-introductiontocomputersciencecurriculummap/unit2map-datatypesandconditionals)"
   ]
  },
  {
   "attachments": {},
   "cell_type": "markdown",
   "metadata": {},
   "source": [
    "----\n",
    "## Print Statement\n",
    "\n",
    "The `print` statement is used to display text on the screen. It is one of the most basic and important statements in Python. Here is a great analogy to understand the `print` statement:\n",
    "\n",
    "> Imagine that you are writing a letter to a friend. You want to tell your friend about your day, so you write down what happened. The `print` statement is like the pen that you use to write down your thoughts. It allows you to display text on the screen, just like you would write it down in a letter.\n",
    "\n",
    "\n",
    "Here is an example of a print statement:"
   ]
  },
  {
   "cell_type": "code",
   "execution_count": 12,
   "metadata": {},
   "outputs": [
    {
     "name": "stdout",
     "output_type": "stream",
     "text": [
      "Hello, world!\n"
     ]
    }
   ],
   "source": [
    "print(\"Hello, world!\")"
   ]
  },
  {
   "attachments": {},
   "cell_type": "markdown",
   "metadata": {},
   "source": [
    "This statement will display the text \"Hello, world!\" on the screen.\n",
    "\n",
    "You can also use the `print` statement to display the values of `variables`. For example, the following statement will display the value of the variable name:"
   ]
  },
  {
   "cell_type": "code",
   "execution_count": 13,
   "metadata": {},
   "outputs": [
    {
     "name": "stdout",
     "output_type": "stream",
     "text": [
      "John Doe\n"
     ]
    }
   ],
   "source": [
    "name = \"John Doe\"\n",
    "print(name)"
   ]
  },
  {
   "attachments": {},
   "cell_type": "markdown",
   "metadata": {},
   "source": [
    "This will display the text \"John Doe\" on the screen.\n",
    "\n",
    "The `print` statement is a very versatile statement. You can use it to display text, the values of variables, and even the results of calculations. It is a powerful tool that can be used to communicate with the user of your program."
   ]
  },
  {
   "attachments": {},
   "cell_type": "markdown",
   "metadata": {},
   "source": [
    "---\n",
    "## Variables\n",
    "\n",
    "A variable is a named container that holds data.\n",
    "\n",
    "In Python, variables are declared with the `name = value` syntax."
   ]
  },
  {
   "cell_type": "code",
   "execution_count": 1,
   "metadata": {},
   "outputs": [],
   "source": [
    "# Variables\n",
    "name = \"John Doe\"\n",
    "age = 18\n",
    "height = 1.75\n"
   ]
  },
  {
   "cell_type": "code",
   "execution_count": 15,
   "metadata": {},
   "outputs": [
    {
     "name": "stdout",
     "output_type": "stream",
     "text": [
      "Hello John Doe\n"
     ]
    }
   ],
   "source": [
    "# The first line of code declares a variable called \"firstName\" and initializes it with the value \"John\".\n",
    "firstName = \"John\"  \n",
    "\n",
    "# The line of code below contains an error. The variable name \"first Name\" is not valid because it contains a space.\n",
    "# The correct way to write the variable name is \"firstName\".\n",
    "#first Name = \"John\" # Error\n",
    "\n",
    "# declares a variable called \"lastName\" and initializes it with the value \"Doe\".\n",
    "lastName = \"Doe\"\n",
    "\n",
    "# uses the `print` statement to display the text \"Hello \" followed by the value of the variable \"firstName\", followed by a space, followed by the value of the variable \"lastName\".\n",
    "print(\"Hello \" + firstName + \" \" + lastName)\n",
    "\n",
    "# The output of the code is the text \"Hello John Doe\"."
   ]
  },
  {
   "attachments": {},
   "cell_type": "markdown",
   "metadata": {},
   "source": [
    "In this case, the value of the variable name is hard-coded into the code. This means that the value of the variable name will always be \"John Doe\". However, we can also use the `input` statement to get the value of the variable name from the user.\n",
    "\n",
    "The `input` statement is used to get input from the user. The syntax for the input statement is as follows:"
   ]
  },
  {
   "cell_type": "code",
   "execution_count": 16,
   "metadata": {},
   "outputs": [
    {
     "data": {
      "text/plain": [
       "'J Doe'"
      ]
     },
     "execution_count": 16,
     "metadata": {},
     "output_type": "execute_result"
    }
   ],
   "source": [
    "input(\"Enter your name: \")"
   ]
  },
  {
   "attachments": {},
   "cell_type": "markdown",
   "metadata": {},
   "source": [
    "The `input` statement will display the text \"Enter your name: \" on the screen and wait for the user to enter a value. The value that the user enters will be stored in a variable.\n",
    "\n",
    "For example, the following code will get the user's name and store it in the variable `name`:"
   ]
  },
  {
   "cell_type": "code",
   "execution_count": 17,
   "metadata": {},
   "outputs": [
    {
     "name": "stdout",
     "output_type": "stream",
     "text": [
      "Hello Phillip Hale\n"
     ]
    }
   ],
   "source": [
    "name = input(\"Enter your name: \")\n",
    "print(\"Hello \" + name)"
   ]
  },
  {
   "attachments": {},
   "cell_type": "markdown",
   "metadata": {},
   "source": [
    "> **Activity 1**\n",
    "> \n",
    "> Write a code that declares a variable called \"city\" and initializes it with the name of your city."
   ]
  },
  {
   "cell_type": "code",
   "execution_count": 9,
   "metadata": {},
   "outputs": [
    {
     "name": "stdout",
     "output_type": "stream",
     "text": [
      "San Francisco\n"
     ]
    }
   ],
   "source": [
    "# answer\n",
    "city = \"San Francisco\"\n",
    "print(city)"
   ]
  },
  {
   "attachments": {},
   "cell_type": "markdown",
   "metadata": {},
   "source": [
    "---\n",
    "## Data Types\n",
    "The data type of a variable determines what kind of data it can hold.\n",
    "\n",
    "In Python, there are many different data types, including:\n",
    "* `str` for strings\n",
    "* `int` Itegers are whole numbers.\n",
    "* `float` for floating-point numbers with decimal places.\n",
    "* `bool` for Boolean values (True or False)\n"
   ]
  },
  {
   "cell_type": "code",
   "execution_count": 2,
   "metadata": {},
   "outputs": [
    {
     "name": "stdout",
     "output_type": "stream",
     "text": [
      "<class 'str'>\n",
      "<class 'int'>\n",
      "<class 'float'>\n"
     ]
    }
   ],
   "source": [
    "# Data types\n",
    "print(type(name))    # Prints \"str\"\n",
    "print(type(age))     # Prints \"int\"\n",
    "print(type(height))  # Prints \"float\""
   ]
  },
  {
   "attachments": {},
   "cell_type": "markdown",
   "metadata": {},
   "source": [
    "> **Activity 2**\n",
    "> \n",
    "> Write a code that declares a variable called \"favorite_food\" and initializes it with your favorite food."
   ]
  },
  {
   "cell_type": "code",
   "execution_count": 10,
   "metadata": {},
   "outputs": [
    {
     "name": "stdout",
     "output_type": "stream",
     "text": [
      "pizza\n"
     ]
    }
   ],
   "source": [
    "# answer\n",
    "# 2. Write a code that declares a variable called \"favorite_food\" and initializes it with your favorite food.\n",
    "favorite_food = \"pizza\"\n",
    "print(favorite_food)\n"
   ]
  },
  {
   "attachments": {},
   "cell_type": "markdown",
   "metadata": {},
   "source": [
    "---\n",
    "## Operators\n",
    "Operators are used to perform operations on data.\n",
    "\n",
    "In Python, there are many different operators, including:\n",
    " * `+` for addition\n",
    " * `-` for subtraction\n",
    " * `*` for multiplication\n",
    " * `/` for division\n",
    " * `%` for modulus (remainder)"
   ]
  },
  {
   "cell_type": "code",
   "execution_count": 3,
   "metadata": {},
   "outputs": [
    {
     "name": "stdout",
     "output_type": "stream",
     "text": [
      "John Doe is 18 years old.\n",
      "3.5\n",
      "9.0\n"
     ]
    }
   ],
   "source": [
    "# Operators\n",
    "print(name + \" is \" + str(age) + \" years old.\")\n",
    "print(height * 2)\n",
    "print(age / 2)\n"
   ]
  },
  {
   "cell_type": "code",
   "execution_count": 7,
   "metadata": {},
   "outputs": [
    {
     "name": "stdout",
     "output_type": "stream",
     "text": [
      "The area of the rectangle is 50\n"
     ]
    }
   ],
   "source": [
    "# Activity 3\n",
    "# Write a code that uses operators to calculate the area of a rectangle with a width of 5 and a height of 10.\n",
    "\n",
    "width = 5\n",
    "height = 10\n",
    "area = width * height\n",
    "print(\"The area of the rectangle is\", area)"
   ]
  },
  {
   "attachments": {},
   "cell_type": "markdown",
   "metadata": {},
   "source": [
    "---\n",
    "## Final Activity\n",
    "\n",
    "1. Write a code that declares a variable called \"number_of_students\" and initializes it with the number of students in your class.\n",
    "2. Write a code that declares a variable called \"average_grade\" and initializes it with the average grade of your class.\n",
    "3. Write a code that uses operators to calculate the total number of points scored by your class."
   ]
  },
  {
   "cell_type": "code",
   "execution_count": 11,
   "metadata": {},
   "outputs": [
    {
     "name": "stdout",
     "output_type": "stream",
     "text": [
      "The total number of points scored by your class is 2000\n"
     ]
    }
   ],
   "source": [
    "number_of_students = 25\n",
    "average_grade = 80\n",
    "total_points = number_of_students * average_grade\n",
    "print(\"The total number of points scored by your class is\", total_points)"
   ]
  },
  {
   "attachments": {},
   "cell_type": "markdown",
   "metadata": {},
   "source": [
    "----\n",
    "## Key Concepts\n",
    "\n",
    "* Variables are named containers that hold data.\n",
    "* Data types determine what kind of data a variable can hold.\n",
    "* Operators are used to perform operations on data."
   ]
  },
  {
   "attachments": {},
   "cell_type": "markdown",
   "metadata": {},
   "source": [
    "---\n",
    "## References\n",
    "* [Unit 1 Map - Introduction to Python](https://tealsk12.github.io/2nd-semester-introduction-to-computer-science/curriculum_map.md.html#2ndsemester-introductiontocomputersciencecurriculummap/unit1map-introductiontopython)\n",
    "* [Unit 2 Map - Data Types and Conditionals](https://tealsk12.github.io/2nd-semester-introduction-to-computer-science/curriculum_map.md.html#2ndsemester-introductiontocomputersciencecurriculummap/unit2map-datatypesandconditionals)\n"
   ]
  },
  {
   "cell_type": "markdown",
   "metadata": {},
   "source": []
  },
  {
   "cell_type": "code",
   "execution_count": null,
   "metadata": {},
   "outputs": [],
   "source": []
  },
  {
   "cell_type": "markdown",
   "metadata": {},
   "source": []
  }
 ],
 "metadata": {
  "kernelspec": {
   "display_name": "base",
   "language": "python",
   "name": "python3"
  },
  "language_info": {
   "codemirror_mode": {
    "name": "ipython",
    "version": 3
   },
   "file_extension": ".py",
   "mimetype": "text/x-python",
   "name": "python",
   "nbconvert_exporter": "python",
   "pygments_lexer": "ipython3",
   "version": "3.7.6"
  },
  "orig_nbformat": 4
 },
 "nbformat": 4,
 "nbformat_minor": 2
}
