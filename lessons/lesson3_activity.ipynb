{
 "cells": [
  {
   "attachments": {},
   "cell_type": "markdown",
   "metadata": {},
   "source": [
    "## Lesson 3: Activity\n",
    "\n",
    "Peter wants to write an algorithm that goes through the list of temperatures and calculate the following:\n",
    "* the average temperature\n",
    "* the highest temperature\n",
    "* the lowest temperature"
   ]
  },
  {
   "cell_type": "code",
   "execution_count": 2,
   "metadata": {},
   "outputs": [],
   "source": [
    "temps = [5,6,6,9,10]\n",
    "total = 0\n",
    "high = 0\n",
    "low = 100"
   ]
  },
  {
   "cell_type": "code",
   "execution_count": 3,
   "metadata": {},
   "outputs": [
    {
     "name": "stdout",
     "output_type": "stream",
     "text": [
      "5\n",
      "6\n",
      "6\n",
      "9\n",
      "10\n"
     ]
    }
   ],
   "source": [
    "# start your loop here\n",
    "for i in temps:\n",
    "    print(i)"
   ]
  },
  {
   "attachments": {},
   "cell_type": "markdown",
   "metadata": {},
   "source": [
    "> ansers"
   ]
  },
  {
   "cell_type": "code",
   "execution_count": 4,
   "metadata": {},
   "outputs": [
    {
     "name": "stdout",
     "output_type": "stream",
     "text": [
      "7.2\n",
      "10\n",
      "6\n"
     ]
    }
   ],
   "source": [
    "for i in range(len(temps)):\n",
    "  total = total+ temps[i]\n",
    "  \n",
    "  #print(temps[i])\n",
    "  if temps[i] > high:\n",
    "    high = temps[i]\n",
    "  elif temps[i] < low:\n",
    "    low = temps[i]\n",
    "\n",
    "#print average\n",
    "print(total/len(temps))\n",
    "\n",
    "# print high\n",
    "print(high)\n",
    "# pring low\n",
    "print(low)"
   ]
  },
  {
   "attachments": {},
   "cell_type": "markdown",
   "metadata": {},
   "source": [
    "Explaination\n",
    "\n",
    "This code defines a list of temperatures, then it defines three variables: `total`, `high`, and `low`. The `total` variable will be used to store the sum of all the temperatures in the list, the `high` variable will be used to store the highest temperature in the list, and the `low` variable will be used to store the lowest temperature in the list.\n",
    "\n",
    "\n",
    "This code uses a `for` loop to iterate through the list of temperatures. In each iteration, the `total` variable is incremented by the current temperature in the list. If the current temperature is greater than the `high` variable, then the `high` variable is updated with the current temperature. Similarly, if the current temperature is less than the `low` variable, then the `low` variable is updated with the current temperature."
   ]
  },
  {
   "attachments": {},
   "cell_type": "markdown",
   "metadata": {},
   "source": [
    "----\n",
    "## Activity 1.2 \n",
    "\n",
    "Peter now wants to be able to input temperatures for a new week. You should ask for each day \"Please enter temperature for Monday\" etc. \n",
    "\n",
    "The algorithm should then calculate the average, lowest and higest temperature for the week, just like before. "
   ]
  },
  {
   "cell_type": "code",
   "execution_count": 5,
   "metadata": {},
   "outputs": [],
   "source": [
    "days = ['mon','tue','wed','thu','fri']"
   ]
  },
  {
   "attachments": {},
   "cell_type": "markdown",
   "metadata": {},
   "source": [
    "> amswers"
   ]
  },
  {
   "cell_type": "code",
   "execution_count": 7,
   "metadata": {},
   "outputs": [
    {
     "name": "stdout",
     "output_type": "stream",
     "text": [
      "Temperature for mon is 15\n",
      "Temperature for tue is 20\n",
      "Temperature for wed is 22\n",
      "Temperature for thu is 5\n",
      "Temperature for fri is 81\n",
      "57.6\n",
      "81\n",
      "5\n"
     ]
    }
   ],
   "source": [
    "for i in range(len(temps)):\n",
    "  temps[i] = int(input(\"Enter a temperature for \" + days[i] + \": \"))\n",
    "  print(\"Temperature for \" + days[i] + \" is \" + str(temps[i]))\n",
    "  total = total+ temps[i]\n",
    "  \n",
    "  #print(temps[i])\n",
    "  if temps[i] > high:\n",
    "    high = temps[i]\n",
    "  elif temps[i] < low:\n",
    "    low = temps[i]\n",
    "\n",
    "#print average\n",
    "print(total/len(temps))\n",
    "\n",
    "# print high\n",
    "print(high)\n",
    "# pring low\n",
    "print(low)"
   ]
  },
  {
   "cell_type": "code",
   "execution_count": null,
   "metadata": {},
   "outputs": [],
   "source": []
  },
  {
   "attachments": {},
   "cell_type": "markdown",
   "metadata": {},
   "source": [
    "## Activity 2\n",
    "\n",
    "* Ask the user to input a message\n",
    "* Ask how many times they want it repeated\n",
    "* Output the message that many times"
   ]
  },
  {
   "cell_type": "code",
   "execution_count": null,
   "metadata": {},
   "outputs": [],
   "source": [
    "message = input(\"What message would you like to say?\")\n",
    "repeats = int(input(\"How many times would you like to repeat it?\"))\n",
    "\n",
    "for count in range(repeats):\n",
    "  print(message)\n"
   ]
  },
  {
   "cell_type": "code",
   "execution_count": null,
   "metadata": {},
   "outputs": [],
   "source": []
  },
  {
   "cell_type": "code",
   "execution_count": null,
   "metadata": {},
   "outputs": [],
   "source": []
  }
 ],
 "metadata": {
  "kernelspec": {
   "display_name": "base",
   "language": "python",
   "name": "python3"
  },
  "language_info": {
   "codemirror_mode": {
    "name": "ipython",
    "version": 3
   },
   "file_extension": ".py",
   "mimetype": "text/x-python",
   "name": "python",
   "nbconvert_exporter": "python",
   "pygments_lexer": "ipython3",
   "version": "3.7.6"
  },
  "orig_nbformat": 4
 },
 "nbformat": 4,
 "nbformat_minor": 2
}
