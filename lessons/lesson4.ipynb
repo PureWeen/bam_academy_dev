{
 "cells": [
  {
   "attachments": {},
   "cell_type": "markdown",
   "metadata": {},
   "source": [
    "## Lesson 4 - Game Development\n",
    "\n",
    "This code creates a basic button score board with two buttons, 0 and 1. When the user clicks on a button, the corresponding number is added to the user's score or the bot's score. If the user's score reaches 10, the user wins the game. If the bot's score reaches 10, the bot wins the game.\n",
    "\n",
    "\n",
    "Here we imports the `ipywidgets` and `numpy` modules. These modules will be used to create the buttons and progress bars in the code."
   ]
  },
  {
   "cell_type": "code",
   "execution_count": 1,
   "metadata": {},
   "outputs": [],
   "source": [
    "from ipywidgets import *\n",
    "import numpy as np"
   ]
  },
  {
   "attachments": {},
   "cell_type": "markdown",
   "metadata": {},
   "source": [
    "Next we create two `Button`, labeled \"0\" and \"1\". The buttons are added to a horizontal box `HBox()`, which is then displayed."
   ]
  },
  {
   "cell_type": "code",
   "execution_count": 2,
   "metadata": {},
   "outputs": [
    {
     "data": {
      "application/vnd.jupyter.widget-view+json": {
       "model_id": "434b51dc858d438293afe2bfdd02d478",
       "version_major": 2,
       "version_minor": 0
      },
      "text/plain": [
       "HBox(children=(Button(description='0', style=ButtonStyle()), Button(description='1', style=ButtonStyle())))"
      ]
     },
     "metadata": {},
     "output_type": "display_data"
    },
    {
     "name": "stdout",
     "output_type": "stream",
     "text": [
      "You win!\n"
     ]
    }
   ],
   "source": [
    "btn_zero = Button(description='0')\n",
    "btn_one = Button(description='1')\n",
    "btns = HBox([btn_zero, btn_one])\n",
    "btns\n"
   ]
  },
  {
   "attachments": {},
   "cell_type": "markdown",
   "metadata": {},
   "source": [
    "The `click_zero` and `click_one` functions are defined next. These functions are called when the \"0\" and \"1\" buttons are clicked, respectively."
   ]
  },
  {
   "cell_type": "code",
   "execution_count": 3,
   "metadata": {},
   "outputs": [],
   "source": [
    "def click_zero(b):\n",
    "    update_display(0)\n",
    "    update_game(0)\n",
    "\n",
    "btn_zero.on_click(click_zero)\n",
    "\n",
    "def click_one(b):\n",
    "    update_display(1)\n",
    "    update_game(1)\n",
    "\n",
    "btn_one.on_click(click_one)"
   ]
  },
  {
   "attachments": {},
   "cell_type": "markdown",
   "metadata": {},
   "source": [
    "Then The `update_display` function is defined next. This function is called by the `click_zero` and `click_one` functions to update the progress bars. The `update_display` function takes a number as input, and then increments the appropriate progress bar."
   ]
  },
  {
   "cell_type": "code",
   "execution_count": 4,
   "metadata": {},
   "outputs": [],
   "source": [
    "def update_display(number):\n",
    "    if number == 0:\n",
    "        usr_score.value += 1\n",
    "    elif number == 1:\n",
    "        bot_score.value += 1"
   ]
  },
  {
   "attachments": {},
   "cell_type": "markdown",
   "metadata": {},
   "source": [
    "The `update_game` function is defined next. This function is called by the `update_display` function to check if the game has been won. The `update_game` function takes a number as input, and then increments the appropriate score variable. If a score variable reaches 10, then the game is over and the appropriate message is printed."
   ]
  },
  {
   "cell_type": "code",
   "execution_count": 5,
   "metadata": {},
   "outputs": [],
   "source": [
    "def update_game(number):\n",
    "    if number == 0:\n",
    "        global usr_score\n",
    "        usr_score.value += 1\n",
    "        if usr_score.value == 10:\n",
    "            print('You win!')\n",
    "    elif number == 1:\n",
    "        global bot_score\n",
    "        bot_score.value += 1\n",
    "        if bot_score.value == 10:\n",
    "            print('Bot wins!')"
   ]
  },
  {
   "attachments": {},
   "cell_type": "markdown",
   "metadata": {},
   "source": [
    "Finally, the `usr_score` and `bot_score` variables are defined next. These variables store the scores for the user and the bot, respectively.\n",
    "\n",
    "The `scoreboard` variable is defined next. This variable is a vertical box that contains the progress bars for the user and the bot. The `scoreboard` variable is displayed at the end of the code."
   ]
  },
  {
   "cell_type": "code",
   "execution_count": 6,
   "metadata": {},
   "outputs": [
    {
     "data": {
      "application/vnd.jupyter.widget-view+json": {
       "model_id": "7469e3558c594e90a30fa00c216d9caf",
       "version_major": 2,
       "version_minor": 0
      },
      "text/plain": [
       "VBox(children=(IntProgress(value=0, bar_style='success', description='You: ', max=10), IntProgress(value=0, ba…"
      ]
     },
     "metadata": {},
     "output_type": "display_data"
    }
   ],
   "source": [
    "usr_score = IntProgress(value=0, min=0, max=10, description='You: ', bar_style='success')\n",
    "bot_score = IntProgress(value=0, min=0, max=10, description='Bot: ', bar_style='danger')\n",
    "scoreboard = VBox([usr_score, bot_score])\n",
    "scoreboard"
   ]
  },
  {
   "cell_type": "code",
   "execution_count": null,
   "metadata": {},
   "outputs": [],
   "source": []
  },
  {
   "cell_type": "code",
   "execution_count": null,
   "metadata": {},
   "outputs": [],
   "source": []
  },
  {
   "cell_type": "code",
   "execution_count": null,
   "metadata": {},
   "outputs": [],
   "source": []
  },
  {
   "cell_type": "code",
   "execution_count": null,
   "metadata": {},
   "outputs": [],
   "source": []
  },
  {
   "cell_type": "code",
   "execution_count": null,
   "metadata": {},
   "outputs": [],
   "source": []
  },
  {
   "cell_type": "code",
   "execution_count": null,
   "metadata": {},
   "outputs": [],
   "source": []
  }
 ],
 "metadata": {
  "kernelspec": {
   "display_name": "base",
   "language": "python",
   "name": "python3"
  },
  "language_info": {
   "codemirror_mode": {
    "name": "ipython",
    "version": 3
   },
   "file_extension": ".py",
   "mimetype": "text/x-python",
   "name": "python",
   "nbconvert_exporter": "python",
   "pygments_lexer": "ipython3",
   "version": "3.7.6"
  },
  "orig_nbformat": 4
 },
 "nbformat": 4,
 "nbformat_minor": 2
}
